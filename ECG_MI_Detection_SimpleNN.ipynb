{
 "cells": [],
 "metadata": {
  "kernelspec": {
   "display_name": "ecg_nn_env",
   "language": "python",
   "name": "python3"
  },
  "language_info": {
   "name": "python",
   "version": "-1.-1.-1"
  }
 },
 "nbformat": 4,
 "nbformat_minor": 5
}
