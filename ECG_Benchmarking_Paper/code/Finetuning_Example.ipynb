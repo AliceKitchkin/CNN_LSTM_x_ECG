{
 "cells": [
  {
   "cell_type": "markdown",
   "metadata": {},
   "source": [
    "# Import"
   ]
  },
  {
   "cell_type": "code",
   "execution_count": 1,
   "metadata": {},
   "outputs": [],
   "source": [
    "import sys\n",
    "import os\n",
    "import tqdm\n",
    "import ast\n",
    "import numpy as np\n",
    "import pandas as pd\n",
    "import matplotlib.pyplot as plt\n",
    "import seaborn as sns\n",
    "import sklearn\n",
    "from sklearn.metrics import roc_curve, auc, roc_auc_score, confusion_matrix\n",
    "import torch\n",
    "import fastai\n",
    "import wfdb\n",
    "import pickle\n",
    "\n",
    "from models.fastai_model import fastai_model"
   ]
  },
  {
   "cell_type": "markdown",
   "metadata": {},
   "source": [
    "# Utils"
   ]
  },
  {
   "cell_type": "markdown",
   "metadata": {},
   "source": [
    "## Preprocessing"
   ]
  },
  {
   "cell_type": "code",
   "execution_count": 2,
   "metadata": {},
   "outputs": [],
   "source": [
    "def load_raw_data_ptbxl(df, sampling_rate, path):\n",
    "    if sampling_rate == 100:\n",
    "        if os.path.exists(path + 'raw100.npy'):\n",
    "            data = np.load(path+'raw100.npy', allow_pickle=True)\n",
    "        else:\n",
    "            data = [wfdb.rdsamp(path+f) for f in tqdm(df.filename_lr)]\n",
    "            data = np.array([signal for signal, meta in data])\n",
    "            pickle.dump(data, open(path+'raw100.npy', 'wb'), protocol=4)\n",
    "    elif sampling_rate == 500:\n",
    "        if os.path.exists(path + 'raw500.npy'):\n",
    "            data = np.load(path+'raw500.npy', allow_pickle=True)\n",
    "        else:\n",
    "            data = [wfdb.rdsamp(path+f) for f in tqdm(df.filename_hr)]\n",
    "            data = np.array([signal for signal, meta in data])\n",
    "            pickle.dump(data, open(path+'raw500.npy', 'wb'), protocol=4)\n",
    "    return data"
   ]
  },
  {
   "cell_type": "code",
   "execution_count": 3,
   "metadata": {},
   "outputs": [],
   "source": [
    "def load_dataset(path, sampling_rate, release=False):\n",
    "\n",
    "    if path.split('/')[-2] == 'ptbxl':\n",
    "        # load and convert annotation data\n",
    "        Y = pd.read_csv(path+'ptbxl_database.csv', index_col='ecg_id')\n",
    "        Y.scp_codes = Y.scp_codes.apply(lambda x: ast.literal_eval(x))\n",
    "\n",
    "        # Load raw signal data\n",
    "        X = load_raw_data_ptbxl(Y, sampling_rate, path)\n",
    "\n",
    "    return X, Y"
   ]
  },
  {
   "cell_type": "code",
   "execution_count": 4,
   "metadata": {},
   "outputs": [],
   "source": [
    "def compute_label_aggregations(df, folder, ctype):\n",
    "\n",
    "    df['scp_codes_len'] = df.scp_codes.apply(lambda x: len(x))\n",
    "\n",
    "    aggregation_df = pd.read_csv(folder+'scp_statements.csv', index_col=0)\n",
    "\n",
    "    if ctype in ['diagnostic', 'subdiagnostic', 'superdiagnostic']:\n",
    "\n",
    "        def aggregate_all_diagnostic(y_dic):\n",
    "            tmp = []\n",
    "            for key in y_dic.keys():\n",
    "                if key in diag_agg_df.index:\n",
    "                    tmp.append(key)\n",
    "            return list(set(tmp))\n",
    "\n",
    "        def aggregate_subdiagnostic(y_dic):\n",
    "            tmp = []\n",
    "            for key in y_dic.keys():\n",
    "                if key in diag_agg_df.index:\n",
    "                    c = diag_agg_df.loc[key].diagnostic_subclass\n",
    "                    if str(c) != 'nan':\n",
    "                        tmp.append(c)\n",
    "            return list(set(tmp))\n",
    "\n",
    "        def aggregate_diagnostic(y_dic):\n",
    "            tmp = []\n",
    "            for key in y_dic.keys():\n",
    "                if key in diag_agg_df.index:\n",
    "                    c = diag_agg_df.loc[key].diagnostic_class\n",
    "                    if str(c) != 'nan':\n",
    "                        tmp.append(c)\n",
    "            return list(set(tmp))\n",
    "\n",
    "        diag_agg_df = aggregation_df[aggregation_df.diagnostic == 1.0]\n",
    "        if ctype == 'diagnostic':\n",
    "            df['diagnostic'] = df.scp_codes.apply(aggregate_all_diagnostic)\n",
    "            df['diagnostic_len'] = df.diagnostic.apply(lambda x: len(x))\n",
    "        elif ctype == 'subdiagnostic':\n",
    "            df['subdiagnostic'] = df.scp_codes.apply(aggregate_subdiagnostic)\n",
    "            df['subdiagnostic_len'] = df.subdiagnostic.apply(lambda x: len(x))\n",
    "        elif ctype == 'superdiagnostic':\n",
    "            df['superdiagnostic'] = df.scp_codes.apply(aggregate_diagnostic)\n",
    "            df['superdiagnostic_len'] = df.superdiagnostic.apply(lambda x: len(x))\n",
    "    elif ctype == 'form':\n",
    "        form_agg_df = aggregation_df[aggregation_df.form == 1.0]\n",
    "\n",
    "        def aggregate_form(y_dic):\n",
    "            tmp = []\n",
    "            for key in y_dic.keys():\n",
    "                if key in form_agg_df.index:\n",
    "                    c = key\n",
    "                    if str(c) != 'nan':\n",
    "                        tmp.append(c)\n",
    "            return list(set(tmp))\n",
    "\n",
    "        df['form'] = df.scp_codes.apply(aggregate_form)\n",
    "        df['form_len'] = df.form.apply(lambda x: len(x))\n",
    "    elif ctype == 'rhythm':\n",
    "        rhythm_agg_df = aggregation_df[aggregation_df.rhythm == 1.0]\n",
    "\n",
    "        def aggregate_rhythm(y_dic):\n",
    "            tmp = []\n",
    "            for key in y_dic.keys():\n",
    "                if key in rhythm_agg_df.index:\n",
    "                    c = key\n",
    "                    if str(c) != 'nan':\n",
    "                        tmp.append(c)\n",
    "            return list(set(tmp))\n",
    "\n",
    "        df['rhythm'] = df.scp_codes.apply(aggregate_rhythm)\n",
    "        df['rhythm_len'] = df.rhythm.apply(lambda x: len(x))\n",
    "    elif ctype == 'all':\n",
    "        df['all_scp'] = df.scp_codes.apply(lambda x: list(set(x.keys())))\n",
    "\n",
    "    return df"
   ]
  },
  {
   "cell_type": "code",
   "execution_count": 5,
   "metadata": {},
   "outputs": [],
   "source": [
    "def select_data(XX,YY, ctype, min_samples, outputfolder):\n",
    "    # convert multilabel to multi-hot\n",
    "    mlb = sklearn.preprocessing.MultiLabelBinarizer()\n",
    "\n",
    "    if ctype == 'diagnostic':\n",
    "        X = XX[YY.diagnostic_len > 0]\n",
    "        Y = YY[YY.diagnostic_len > 0]\n",
    "        mlb.fit(Y.diagnostic.values)\n",
    "        y = mlb.transform(Y.diagnostic.values)\n",
    "    elif ctype == 'subdiagnostic':\n",
    "        counts = pd.Series(np.concatenate(YY.subdiagnostic.values)).value_counts()\n",
    "        counts = counts[counts > min_samples]\n",
    "        YY.subdiagnostic = YY.subdiagnostic.apply(lambda x: list(set(x).intersection(set(counts.index.values))))\n",
    "        YY['subdiagnostic_len'] = YY.subdiagnostic.apply(lambda x: len(x))\n",
    "        X = XX[YY.subdiagnostic_len > 0]\n",
    "        Y = YY[YY.subdiagnostic_len > 0]\n",
    "        mlb.fit(Y.subdiagnostic.values)\n",
    "        y = mlb.transform(Y.subdiagnostic.values)\n",
    "    elif ctype == 'superdiagnostic':\n",
    "        counts = pd.Series(np.concatenate(YY.superdiagnostic.values)).value_counts()\n",
    "        counts = counts[counts > min_samples]\n",
    "        YY.superdiagnostic = YY.superdiagnostic.apply(lambda x: list(set(x).intersection(set(counts.index.values))))\n",
    "        YY['superdiagnostic_len'] = YY.superdiagnostic.apply(lambda x: len(x))\n",
    "        X = XX[YY.superdiagnostic_len > 0]\n",
    "        Y = YY[YY.superdiagnostic_len > 0]\n",
    "        mlb.fit(Y.superdiagnostic.values)\n",
    "        y = mlb.transform(Y.superdiagnostic.values)\n",
    "    elif ctype == 'form':\n",
    "        # filter\n",
    "        counts = pd.Series(np.concatenate(YY.form.values)).value_counts()\n",
    "        counts = counts[counts > min_samples]\n",
    "        YY.form = YY.form.apply(lambda x: list(set(x).intersection(set(counts.index.values))))\n",
    "        YY['form_len'] = YY.form.apply(lambda x: len(x))\n",
    "        # select\n",
    "        X = XX[YY.form_len > 0]\n",
    "        Y = YY[YY.form_len > 0]\n",
    "        mlb.fit(Y.form.values)\n",
    "        y = mlb.transform(Y.form.values)\n",
    "    elif ctype == 'rhythm':\n",
    "        # filter \n",
    "        counts = pd.Series(np.concatenate(YY.rhythm.values)).value_counts()\n",
    "        counts = counts[counts > min_samples]\n",
    "        YY.rhythm = YY.rhythm.apply(lambda x: list(set(x).intersection(set(counts.index.values))))\n",
    "        YY['rhythm_len'] = YY.rhythm.apply(lambda x: len(x))\n",
    "        # select\n",
    "        X = XX[YY.rhythm_len > 0]\n",
    "        Y = YY[YY.rhythm_len > 0]\n",
    "        mlb.fit(Y.rhythm.values)\n",
    "        y = mlb.transform(Y.rhythm.values)\n",
    "    elif ctype == 'all':\n",
    "        # filter \n",
    "        counts = pd.Series(np.concatenate(YY.all_scp.values)).value_counts()\n",
    "        counts = counts[counts > min_samples]\n",
    "        YY.all_scp = YY.all_scp.apply(lambda x: list(set(x).intersection(set(counts.index.values))))\n",
    "        YY['all_scp_len'] = YY.all_scp.apply(lambda x: len(x))\n",
    "        # select\n",
    "        X = XX[YY.all_scp_len > 0]\n",
    "        Y = YY[YY.all_scp_len > 0]\n",
    "        mlb.fit(Y.all_scp.values)\n",
    "        y = mlb.transform(Y.all_scp.values)\n",
    "    else:\n",
    "        pass\n",
    "\n",
    "    # save LabelBinarizer\n",
    "    with open(outputfolder+'mlb.pkl', 'wb') as tokenizer:\n",
    "        pickle.dump(mlb, tokenizer)\n",
    "\n",
    "    return X, Y, y, mlb"
   ]
  },
  {
   "cell_type": "code",
   "execution_count": 6,
   "metadata": {},
   "outputs": [],
   "source": [
    "def apply_standardizer(X, ss):\n",
    "    X_tmp = []\n",
    "    for x in X:\n",
    "        x_shape = x.shape\n",
    "        X_tmp.append(ss.transform(x.flatten()[:,np.newaxis]).reshape(x_shape))\n",
    "    X_tmp = np.array(X_tmp)\n",
    "    return X_tmp"
   ]
  },
  {
   "cell_type": "markdown",
   "metadata": {},
   "source": [
    "## Evaluation"
   ]
  },
  {
   "cell_type": "code",
   "execution_count": 7,
   "metadata": {},
   "outputs": [],
   "source": [
    "def apply_thresholds(preds, thresholds):\n",
    "\t\"\"\"\n",
    "\t\tapply class-wise thresholds to prediction score in order to get binary format.\n",
    "\t\tBUT: if no score is above threshold, pick maximum. This is needed due to metric issues.\n",
    "\t\"\"\"\n",
    "\ttmp = []\n",
    "\tfor p in preds:\n",
    "\t\ttmp_p = (p > thresholds).astype(int)\n",
    "\t\tif np.sum(tmp_p) == 0:\n",
    "\t\t\ttmp_p[np.argmax(p)] = 1\n",
    "\t\ttmp.append(tmp_p)\n",
    "\ttmp = np.array(tmp)\n",
    "\treturn tmp"
   ]
  },
  {
   "cell_type": "code",
   "execution_count": 8,
   "metadata": {},
   "outputs": [],
   "source": [
    "def challenge_metrics(y_true, y_pred, beta1=2, beta2=2, class_weights=None, single=False):\n",
    "    f_beta = 0\n",
    "    g_beta = 0\n",
    "    if single: # if evaluating single class in case of threshold-optimization\n",
    "        sample_weights = np.ones(y_true.sum(axis=1).shape)\n",
    "    else:\n",
    "        sample_weights = y_true.sum(axis=1)\n",
    "    for classi in range(y_true.shape[1]):\n",
    "        y_truei, y_predi = y_true[:,classi], y_pred[:,classi]\n",
    "        TP, FP, TN, FN = 0.,0.,0.,0.\n",
    "        for i in range(len(y_predi)):\n",
    "            sample_weight = sample_weights[i]\n",
    "            if y_truei[i]==y_predi[i]==1: \n",
    "                TP += 1./sample_weight\n",
    "            if ((y_predi[i]==1) and (y_truei[i]!=y_predi[i])): \n",
    "                FP += 1./sample_weight\n",
    "            if y_truei[i]==y_predi[i]==0: \n",
    "                TN += 1./sample_weight\n",
    "            if ((y_predi[i]==0) and (y_truei[i]!=y_predi[i])): \n",
    "                FN += 1./sample_weight \n",
    "        f_beta_i = ((1+beta1**2)*TP)/((1+beta1**2)*TP + FP + (beta1**2)*FN)\n",
    "        g_beta_i = (TP)/(TP+FP+beta2*FN)\n",
    "\n",
    "        f_beta += f_beta_i\n",
    "        g_beta += g_beta_i\n",
    "\n",
    "    return {'F_beta_macro':f_beta/y_true.shape[1], 'G_beta_macro':g_beta/y_true.shape[1]}"
   ]
  },
  {
   "cell_type": "code",
   "execution_count": 9,
   "metadata": {},
   "outputs": [],
   "source": [
    "def evaluate_experiment(y_true, y_pred, thresholds=None):\n",
    "    results = {}\n",
    "\n",
    "    if not thresholds is None:\n",
    "        # binary predictions\n",
    "        y_pred_binary = apply_thresholds(y_pred, thresholds)\n",
    "        # PhysioNet/CinC Challenges metrics\n",
    "        challenge_scores = challenge_metrics(y_true, y_pred_binary, beta1=2, beta2=2)\n",
    "        results['F_beta_macro'] = challenge_scores['F_beta_macro']\n",
    "        results['G_beta_macro'] = challenge_scores['G_beta_macro']\n",
    "\n",
    "    # label based metric\n",
    "    results['macro_auc'] = roc_auc_score(y_true, y_pred, average='macro')\n",
    "    \n",
    "    df_result = pd.DataFrame(results, index=[0])\n",
    "    return df_result"
   ]
  },
  {
   "cell_type": "markdown",
   "metadata": {},
   "source": [
    "# Load your data\n",
    "\n",
    "Before finetuning a pretrained model of the experiments we provide in our repository (or precomputed and provided [here](https://datacloud.hhi.fraunhofer.de/nextcloud/s/NCjYws3mamLrkKq)), first load your custom 100 Hz sampled 12-lead ECG signal data `X` of shape `[N,L,12]` in Millivolts (mV) and multi-hot encoded labels `y` of shape `[N,C]` as numpy arrays, where `C` is the number of classes and `N` the number of total samples in this dataset. Although PTB-XL comes with fixed `L=1000` (i,e. 10 seconds), it is not required to be fixed, **BUT** the shortest sample must be longer than `input_size` of the specific model (e.g. 2.5 seconds for our fastai-models).\n",
    "\n",
    "For proper tinetuning split your data into four numpy arrays: `X_train`,`y_train`,`X_val` and `y_val`\n",
    "\n",
    "### Example: finetune model trained on all (71) on superdiagnostic (5)\n",
    "Below we provide an example for loading [PTB-XL](https://physionet.org/content/ptb-xl/1.0.1/) aggregated at the `superdiagnostic` level, where we use the provided folds for train-validation-split:"
   ]
  },
  {
   "cell_type": "code",
   "execution_count": 10,
   "metadata": {},
   "outputs": [
    {
     "name": "stdout",
     "output_type": "stream",
     "text": [
      "Alle verfügbaren Klassen: ['AMI', 'CLBBB', 'CRBBB', 'ILBBB', 'IMI', 'IRBBB', 'ISCA', 'ISCI', 'ISC_', 'IVCD', 'LAFB/LPFB', 'LAO/LAE', 'LMI', 'LVH', 'NORM', 'NST_', 'PMI', 'RAO/RAE', 'RVH', 'SEHYP', 'STTC', 'WPW', '_AVB']\n",
      "Anzahl Klassen: 23\n",
      "Gefiltert auf 3 Klassen: ['AMI', 'IMI', 'NORM']\n"
     ]
    }
   ],
   "source": [
    "#from utils import utils\n",
    "\n",
    "sampling_frequency=100\n",
    "datafolder='C:/Users/AliceKitchkin/Repos/CNN_LSTM_x_ECG/data/ptbxl/'\n",
    "task='subdiagnostic'\n",
    "outputfolder='../output/'\n",
    "\n",
    "# Load PTB-XL data\n",
    "data, raw_labels = load_dataset(datafolder, sampling_frequency)\n",
    "# Preprocess label data\n",
    "labels = compute_label_aggregations(raw_labels, datafolder, task)\n",
    "# Select relevant data and convert to one-hot\n",
    "data, labels, Y, mlb = select_data(data, labels, task, min_samples=0, outputfolder=outputfolder)\n",
    "\n",
    "\n",
    "# --- Classes ---\n",
    "class_names = list(mlb.classes_)\n",
    "num_classes = len(class_names)\n",
    "print(f\"Alle verfügbaren Klassen: {class_names}\")\n",
    "print(f\"Anzahl Klassen: {num_classes}\")\n",
    "\n",
    "classes_to_pred = ['AMI', 'IMI', 'NORM']\n",
    "klassen_indizes = [i for i, name in enumerate(class_names) if name in classes_to_pred]\n",
    "\n",
    "Y_filtered = Y[:, klassen_indizes]\n",
    "class_names_filtered = [class_names[i] for i in klassen_indizes]\n",
    "\n",
    "class_names = class_names_filtered  # <=== number of classes in the finetuning dataset\n",
    "num_classes = len(class_names)\n",
    "# ----------------\n",
    "\n",
    "\n",
    "# 1-9 for training \n",
    "X_train = data[labels.strat_fold < 10]\n",
    "#y_train = Y[labels.strat_fold < 10] # old\n",
    "y_train = Y_filtered[labels.strat_fold < 10]\n",
    "\n",
    "# 10 for validation\n",
    "X_val = data[labels.strat_fold == 10]\n",
    "#y_val = Y[labels.strat_fold == 10] # old\n",
    "y_val = Y_filtered[labels.strat_fold == 10]\n",
    "\n",
    "\n",
    "input_shape = [1000,12]             # <=== shape of samples, [None, 12] in case of different lengths\n",
    "\n",
    "X_train.shape, y_train.shape, X_val.shape, y_val.shape\n",
    "\n",
    "\n",
    "print(f\"Gefiltert auf {len(class_names)} Klassen: {class_names}\")"
   ]
  },
  {
   "cell_type": "code",
   "execution_count": 11,
   "metadata": {},
   "outputs": [
    {
     "name": "stdout",
     "output_type": "stream",
     "text": [
      "Label-Verteilung nach Filterung:\n",
      "AMI: 2772/19230 (14.4%)\n",
      "IMI: 2944/19230 (15.3%)\n",
      "NORM: 8551/19230 (44.5%)\n",
      "\n",
      "Samples ohne jedes Label: 5863\n"
     ]
    }
   ],
   "source": [
    "print(\"Label-Verteilung nach Filterung:\")\n",
    "for i, class_name in enumerate(class_names):\n",
    "    positive_samples = (y_train[:, i] == 1).sum()\n",
    "    total_samples = len(y_train)\n",
    "    print(f\"{class_name}: {positive_samples}/{total_samples} ({positive_samples/total_samples*100:.1f}%)\")\n",
    "\n",
    "print(f\"\\nSamples ohne jedes Label: {(y_train.sum(axis=1) == 0).sum()}\")"
   ]
  },
  {
   "cell_type": "markdown",
   "metadata": {},
   "source": [
    "# Train or download models\n",
    "There are two possibilities:\n",
    "   1. Run the experiments as described in README. Afterwards you find trained in models in `output/expX/models/`\n",
    "   2. Download the precomputed `output`-folder with all experiments and models from [here]((https://datacloud.hhi.fraunhofer.de/nextcloud/s/NCjYws3mamLrkKq))\n",
    "\n",
    "# Load pretrained model\n",
    "\n",
    "For loading a pretrained model:\n",
    "   1. specify `modelname` which can be seen in `code/configs/` (e.g. `modelname='fastai_xresnet1d101'`)\n",
    "   2. provide `experiment` to build the path `pretrainedfolder` (here: `exp0` refers to the experiment with `all` 71 SCP-statements)\n",
    "   \n",
    "This returns the pretrained model where the classification is replaced by a random initialized head with the same number of outputs as the number of classes."
   ]
  },
  {
   "cell_type": "code",
   "execution_count": 12,
   "metadata": {},
   "outputs": [],
   "source": [
    "experiment = 'exp0'\n",
    "modelname = 'fastai_xresnet1d101'\n",
    "pretrainedfolder = '../output/'+experiment+'/models/'+modelname+'/'\n",
    "mpath='../output/' # <=== path where the finetuned model will be stored\n",
    "n_classes_pretrained = 71 # <=== because we load the model from exp0, this should be fixed because this depends the experiment\n",
    "\n",
    "model = fastai_model(\n",
    "    modelname, \n",
    "    num_classes, \n",
    "    sampling_frequency, \n",
    "    mpath, \n",
    "    input_shape=input_shape, \n",
    "    pretrainedfolder=pretrainedfolder,\n",
    "    n_classes_pretrained=n_classes_pretrained, \n",
    "    pretrained=True,\n",
    "    epochs_finetuning=2,\n",
    ")"
   ]
  },
  {
   "cell_type": "markdown",
   "metadata": {},
   "source": [
    "# Preprocess data with pretrained Standardizer\n",
    "\n",
    "Since we standardize inputs to zero mean and unit variance, your custom data needs to be standardized with the respective mean and variance. This is also provided in the respective experiment folder `output/expX/data/standard_scaler.pkl`"
   ]
  },
  {
   "cell_type": "code",
   "execution_count": 13,
   "metadata": {},
   "outputs": [],
   "source": [
    "standard_scaler = pickle.load(open('../output/'+experiment+'/data/standard_scaler.pkl', \"rb\"))\n",
    "\n",
    "X_train = apply_standardizer(X_train, standard_scaler)\n",
    "X_val = apply_standardizer(X_val, standard_scaler)"
   ]
  },
  {
   "cell_type": "markdown",
   "metadata": {},
   "source": [
    "# Finetune model\n",
    "\n",
    "Calling `model.fit` of a model with `pretrained=True` will perform finetuning as proposed in our work i.e. **gradual unfreezing and discriminative learning rates**. "
   ]
  },
  {
   "cell_type": "code",
   "execution_count": 14,
   "metadata": {},
   "outputs": [
    {
     "name": "stdout",
     "output_type": "stream",
     "text": [
      "Finetuning...\n",
      "model: fastai_xresnet1d101\n"
     ]
    },
    {
     "name": "stderr",
     "output_type": "stream",
     "text": [
      "c:\\Users\\AliceKitchkin\\miniconda3\\envs\\ecg_benchmarking_env\\Lib\\site-packages\\fastai\\basic_train.py:269: FutureWarning: You are using `torch.load` with `weights_only=False` (the current default value), which uses the default pickle module implicitly. It is possible to construct malicious pickle data which will execute arbitrary code during unpickling (See https://github.com/pytorch/pytorch/blob/main/SECURITY.md#untrusted-models for more details). In a future release, the default value for `weights_only` will be flipped to `True`. This limits the functions that could be executed during unpickling. Arbitrary objects will no longer be allowed to be loaded via this mode unless they are explicitly allowlisted by the user via `torch.serialization.add_safe_globals`. We recommend you start setting `weights_only=True` for any use case where you don't have full control of the loaded file. Please open an issue on GitHub for any issues related to this experimental feature.\n",
      "  state = torch.load(source, map_location=device)\n"
     ]
    },
    {
     "data": {
      "text/html": [
       "\n",
       "<style>\n",
       "    /* Turns off some styling */\n",
       "    progress {\n",
       "        /* gets rid of default border in Firefox and Opera. */\n",
       "        border: none;\n",
       "        /* Needs to be in here for Safari polyfill so background images work as expected. */\n",
       "        background-size: auto;\n",
       "    }\n",
       "    progress:not([value]), progress:not([value])::-webkit-progress-bar {\n",
       "        background: repeating-linear-gradient(45deg, #7e7e7e, #7e7e7e 10px, #5c5c5c 10px, #5c5c5c 20px);\n",
       "    }\n",
       "    .progress-bar-interrupted, .progress-bar-interrupted::-webkit-progress-bar {\n",
       "        background: #F44336;\n",
       "    }\n",
       "</style>\n"
      ],
      "text/plain": [
       "<IPython.core.display.HTML object>"
      ]
     },
     "metadata": {},
     "output_type": "display_data"
    },
    {
     "data": {
      "text/html": [
       "\n",
       "    <div>\n",
       "      <progress value='0' class='' max='1' style='width:300px; height:20px; vertical-align: middle;'></progress>\n",
       "      0.00% [0/1 00:00&lt;?]\n",
       "    </div>\n",
       "    \n",
       "<table border=\"1\" class=\"dataframe\">\n",
       "  <thead>\n",
       "    <tr style=\"text-align: left;\">\n",
       "      <th>epoch</th>\n",
       "      <th>train_loss</th>\n",
       "      <th>valid_loss</th>\n",
       "      <th>time</th>\n",
       "    </tr>\n",
       "  </thead>\n",
       "  <tbody>\n",
       "  </tbody>\n",
       "</table><p>\n",
       "\n",
       "    <div>\n",
       "      <progress value='93' class='' max='150' style='width:300px; height:20px; vertical-align: middle;'></progress>\n",
       "      62.00% [93/150 01:25&lt;00:52 1.6624]\n",
       "    </div>\n",
       "    "
      ],
      "text/plain": [
       "<IPython.core.display.HTML object>"
      ]
     },
     "metadata": {},
     "output_type": "display_data"
    },
    {
     "name": "stderr",
     "output_type": "stream",
     "text": [
      "c:\\Users\\AliceKitchkin\\miniconda3\\envs\\ecg_benchmarking_env\\Lib\\site-packages\\fastai\\basic_train.py:269: FutureWarning: You are using `torch.load` with `weights_only=False` (the current default value), which uses the default pickle module implicitly. It is possible to construct malicious pickle data which will execute arbitrary code during unpickling (See https://github.com/pytorch/pytorch/blob/main/SECURITY.md#untrusted-models for more details). In a future release, the default value for `weights_only` will be flipped to `True`. This limits the functions that could be executed during unpickling. Arbitrary objects will no longer be allowed to be loaded via this mode unless they are explicitly allowlisted by the user via `torch.serialization.add_safe_globals`. We recommend you start setting `weights_only=True` for any use case where you don't have full control of the loaded file. Please open an issue on GitHub for any issues related to this experimental feature.\n",
      "  state = torch.load(source, map_location=device)\n"
     ]
    },
    {
     "name": "stdout",
     "output_type": "stream",
     "text": [
      "LR Finder is complete, type {learner_name}.recorder.plot() to see the graph.\n"
     ]
    },
    {
     "data": {
      "text/html": [
       "\n",
       "<style>\n",
       "    /* Turns off some styling */\n",
       "    progress {\n",
       "        /* gets rid of default border in Firefox and Opera. */\n",
       "        border: none;\n",
       "        /* Needs to be in here for Safari polyfill so background images work as expected. */\n",
       "        background-size: auto;\n",
       "    }\n",
       "    progress:not([value]), progress:not([value])::-webkit-progress-bar {\n",
       "        background: repeating-linear-gradient(45deg, #7e7e7e, #7e7e7e 10px, #5c5c5c 10px, #5c5c5c 20px);\n",
       "    }\n",
       "    .progress-bar-interrupted, .progress-bar-interrupted::-webkit-progress-bar {\n",
       "        background: #F44336;\n",
       "    }\n",
       "</style>\n"
      ],
      "text/plain": [
       "<IPython.core.display.HTML object>"
      ]
     },
     "metadata": {},
     "output_type": "display_data"
    },
    {
     "data": {
      "text/html": [
       "<table border=\"1\" class=\"dataframe\">\n",
       "  <thead>\n",
       "    <tr style=\"text-align: left;\">\n",
       "      <th>epoch</th>\n",
       "      <th>train_loss</th>\n",
       "      <th>valid_loss</th>\n",
       "      <th>time</th>\n",
       "    </tr>\n",
       "  </thead>\n",
       "  <tbody>\n",
       "    <tr>\n",
       "      <td>0</td>\n",
       "      <td>0.225781</td>\n",
       "      <td>0.239176</td>\n",
       "      <td>03:03</td>\n",
       "    </tr>\n",
       "    <tr>\n",
       "      <td>1</td>\n",
       "      <td>0.188895</td>\n",
       "      <td>0.223474</td>\n",
       "      <td>03:17</td>\n",
       "    </tr>\n",
       "  </tbody>\n",
       "</table>"
      ],
      "text/plain": [
       "<IPython.core.display.HTML object>"
      ]
     },
     "metadata": {},
     "output_type": "display_data"
    },
    {
     "data": {
      "text/html": [
       "\n",
       "<style>\n",
       "    /* Turns off some styling */\n",
       "    progress {\n",
       "        /* gets rid of default border in Firefox and Opera. */\n",
       "        border: none;\n",
       "        /* Needs to be in here for Safari polyfill so background images work as expected. */\n",
       "        background-size: auto;\n",
       "    }\n",
       "    progress:not([value]), progress:not([value])::-webkit-progress-bar {\n",
       "        background: repeating-linear-gradient(45deg, #7e7e7e, #7e7e7e 10px, #5c5c5c 10px, #5c5c5c 20px);\n",
       "    }\n",
       "    .progress-bar-interrupted, .progress-bar-interrupted::-webkit-progress-bar {\n",
       "        background: #F44336;\n",
       "    }\n",
       "</style>\n"
      ],
      "text/plain": [
       "<IPython.core.display.HTML object>"
      ]
     },
     "metadata": {},
     "output_type": "display_data"
    },
    {
     "data": {
      "text/html": [
       "\n",
       "    <div>\n",
       "      <progress value='0' class='' max='1' style='width:300px; height:20px; vertical-align: middle;'></progress>\n",
       "      0.00% [0/1 00:00&lt;?]\n",
       "    </div>\n",
       "    \n",
       "<table border=\"1\" class=\"dataframe\">\n",
       "  <thead>\n",
       "    <tr style=\"text-align: left;\">\n",
       "      <th>epoch</th>\n",
       "      <th>train_loss</th>\n",
       "      <th>valid_loss</th>\n",
       "      <th>time</th>\n",
       "    </tr>\n",
       "  </thead>\n",
       "  <tbody>\n",
       "  </tbody>\n",
       "</table><p>\n",
       "\n",
       "    <div>\n",
       "      <progress value='89' class='' max='150' style='width:300px; height:20px; vertical-align: middle;'></progress>\n",
       "      59.33% [89/150 02:09&lt;01:28 0.5476]\n",
       "    </div>\n",
       "    "
      ],
      "text/plain": [
       "<IPython.core.display.HTML object>"
      ]
     },
     "metadata": {},
     "output_type": "display_data"
    },
    {
     "name": "stdout",
     "output_type": "stream",
     "text": [
      "LR Finder is complete, type {learner_name}.recorder.plot() to see the graph.\n"
     ]
    },
    {
     "data": {
      "text/html": [
       "\n",
       "<style>\n",
       "    /* Turns off some styling */\n",
       "    progress {\n",
       "        /* gets rid of default border in Firefox and Opera. */\n",
       "        border: none;\n",
       "        /* Needs to be in here for Safari polyfill so background images work as expected. */\n",
       "        background-size: auto;\n",
       "    }\n",
       "    progress:not([value]), progress:not([value])::-webkit-progress-bar {\n",
       "        background: repeating-linear-gradient(45deg, #7e7e7e, #7e7e7e 10px, #5c5c5c 10px, #5c5c5c 20px);\n",
       "    }\n",
       "    .progress-bar-interrupted, .progress-bar-interrupted::-webkit-progress-bar {\n",
       "        background: #F44336;\n",
       "    }\n",
       "</style>\n"
      ],
      "text/plain": [
       "<IPython.core.display.HTML object>"
      ]
     },
     "metadata": {},
     "output_type": "display_data"
    },
    {
     "data": {
      "text/html": [
       "<table border=\"1\" class=\"dataframe\">\n",
       "  <thead>\n",
       "    <tr style=\"text-align: left;\">\n",
       "      <th>epoch</th>\n",
       "      <th>train_loss</th>\n",
       "      <th>valid_loss</th>\n",
       "      <th>time</th>\n",
       "    </tr>\n",
       "  </thead>\n",
       "  <tbody>\n",
       "    <tr>\n",
       "      <td>0</td>\n",
       "      <td>0.181140</td>\n",
       "      <td>0.220914</td>\n",
       "      <td>03:51</td>\n",
       "    </tr>\n",
       "    <tr>\n",
       "      <td>1</td>\n",
       "      <td>0.184937</td>\n",
       "      <td>0.219745</td>\n",
       "      <td>04:20</td>\n",
       "    </tr>\n",
       "  </tbody>\n",
       "</table>"
      ],
      "text/plain": [
       "<IPython.core.display.HTML object>"
      ]
     },
     "metadata": {},
     "output_type": "display_data"
    }
   ],
   "source": [
    "model.fit(X_train, y_train, X_val, y_val)"
   ]
  },
  {
   "cell_type": "markdown",
   "metadata": {},
   "source": [
    "# Evaluate model on validation data"
   ]
  },
  {
   "cell_type": "code",
   "execution_count": 15,
   "metadata": {},
   "outputs": [
    {
     "name": "stdout",
     "output_type": "stream",
     "text": [
      "model: fastai_xresnet1d101\n"
     ]
    },
    {
     "data": {
      "text/html": [
       "\n",
       "<style>\n",
       "    /* Turns off some styling */\n",
       "    progress {\n",
       "        /* gets rid of default border in Firefox and Opera. */\n",
       "        border: none;\n",
       "        /* Needs to be in here for Safari polyfill so background images work as expected. */\n",
       "        background-size: auto;\n",
       "    }\n",
       "    progress:not([value]), progress:not([value])::-webkit-progress-bar {\n",
       "        background: repeating-linear-gradient(45deg, #7e7e7e, #7e7e7e 10px, #5c5c5c 10px, #5c5c5c 20px);\n",
       "    }\n",
       "    .progress-bar-interrupted, .progress-bar-interrupted::-webkit-progress-bar {\n",
       "        background: #F44336;\n",
       "    }\n",
       "</style>\n"
      ],
      "text/plain": [
       "<IPython.core.display.HTML object>"
      ]
     },
     "metadata": {},
     "output_type": "display_data"
    },
    {
     "data": {
      "text/html": [],
      "text/plain": [
       "<IPython.core.display.HTML object>"
      ]
     },
     "metadata": {},
     "output_type": "display_data"
    },
    {
     "name": "stdout",
     "output_type": "stream",
     "text": [
      "aggregating predictions...\n"
     ]
    },
    {
     "data": {
      "application/vnd.microsoft.datawrangler.viewer.v0+json": {
       "columns": [
        {
         "name": "index",
         "rawType": "int64",
         "type": "integer"
        },
        {
         "name": "macro_auc",
         "rawType": "float64",
         "type": "float"
        }
       ],
       "ref": "94fe4865-31ca-4daf-b232-86a5021e8377",
       "rows": [
        [
         "0",
         "0.9567135300909321"
        ]
       ],
       "shape": {
        "columns": 1,
        "rows": 1
       }
      },
      "text/html": [
       "<div>\n",
       "<style scoped>\n",
       "    .dataframe tbody tr th:only-of-type {\n",
       "        vertical-align: middle;\n",
       "    }\n",
       "\n",
       "    .dataframe tbody tr th {\n",
       "        vertical-align: top;\n",
       "    }\n",
       "\n",
       "    .dataframe thead th {\n",
       "        text-align: right;\n",
       "    }\n",
       "</style>\n",
       "<table border=\"1\" class=\"dataframe\">\n",
       "  <thead>\n",
       "    <tr style=\"text-align: right;\">\n",
       "      <th></th>\n",
       "      <th>macro_auc</th>\n",
       "    </tr>\n",
       "  </thead>\n",
       "  <tbody>\n",
       "    <tr>\n",
       "      <th>0</th>\n",
       "      <td>0.956714</td>\n",
       "    </tr>\n",
       "  </tbody>\n",
       "</table>\n",
       "</div>"
      ],
      "text/plain": [
       "   macro_auc\n",
       "0   0.956714"
      ]
     },
     "execution_count": 15,
     "metadata": {},
     "output_type": "execute_result"
    }
   ],
   "source": [
    "y_val_pred = model.predict(X_val)\n",
    "evaluate_experiment(y_val, y_val_pred)"
   ]
  },
  {
   "cell_type": "markdown",
   "metadata": {},
   "source": [
    "## Plots"
   ]
  },
  {
   "cell_type": "code",
   "execution_count": 21,
   "metadata": {},
   "outputs": [
    {
     "data": {
      "image/png": "[encoded data removed]",
      "text/plain": [
       "<Figure size 1200x300 with 6 Axes>"
      ]
     },
     "metadata": {},
     "output_type": "display_data"
    }
   ],
   "source": [
    "%matplotlib inline\n",
    "\n",
    "y_val_binary = (y_val > 0.5).astype(int)\n",
    "y_pred_binary = (y_val_pred > 0.5).astype(int)\n",
    "\n",
    "# Dynamische Berechnung der Grid-Größe\n",
    "import math\n",
    "cols = min(6, num_classes)  # Maximal 6 Spalten\n",
    "rows = math.ceil(num_classes / cols)\n",
    "\n",
    "fig, axes = plt.subplots(rows, cols, figsize=(cols * 4, rows * 3))\n",
    "\n",
    "# Flatten axes array für einfacheren Zugriff\n",
    "if num_classes == 1:\n",
    "    axes = [axes]\n",
    "elif rows == 1:\n",
    "    axes = axes\n",
    "else:\n",
    "    axes = axes.flatten()\n",
    "\n",
    "for i in range(num_classes):\n",
    "    cm = confusion_matrix(y_val_binary[:, i], y_pred_binary[:, i])\n",
    "    cm_percent = cm.astype('float') / cm.sum(axis=1)[:, np.newaxis] * 100\n",
    "    \n",
    "    # Kombiniere absolute Zahlen und Prozentzahlen\n",
    "    labels = np.asarray([f'{v1}\\n({v2:.1f}%)' \n",
    "                        for v1, v2 in zip(cm.flatten(), cm_percent.flatten())]).reshape(2,2)\n",
    "    \n",
    "    sns.heatmap(cm, annot=labels, fmt='', ax=axes[i], cmap='Blues')\n",
    "    axes[i].set_title(f'{class_names[i]}', fontsize=10)\n",
    "    axes[i].set_xlabel('Predicted', fontsize=8)\n",
    "    axes[i].set_ylabel('Actual', fontsize=8)\n",
    "\n",
    "# Verstecke leere Subplots\n",
    "for j in range(num_classes, rows * cols):\n",
    "    if j < len(axes):\n",
    "        axes[j].set_visible(False)\n",
    "\n",
    "plt.tight_layout()\n",
    "plt.show()"
   ]
  },
  {
   "cell_type": "markdown",
   "metadata": {},
   "source": [
    "^^^\n",
    "This plot displays binary confusion matrices for each of the 5 superdiagnostic classes (NORM, MI, STTC, CD, HYP). Each heatmap shows true positives, true negatives, false positives, and false negatives for individual classes, helping to identify which classes the model confuses most often."
   ]
  },
  {
   "cell_type": "code",
   "execution_count": 20,
   "metadata": {},
   "outputs": [
    {
     "data": {
      "image/png": "[encoded data removed]",
      "text/plain": [
       "<Figure size 800x500 with 1 Axes>"
      ]
     },
     "metadata": {},
     "output_type": "display_data"
    }
   ],
   "source": [
    "%matplotlib inline\n",
    "\n",
    "plt.figure(figsize=(8, 5))\n",
    "\n",
    "for i in range(num_classes):\n",
    "    fpr, tpr, _ = roc_curve(y_val[:, i], y_val_pred[:, i])\n",
    "    roc_auc = auc(fpr, tpr)\n",
    "    plt.plot(fpr, tpr, label=f'{class_names[i]} (AUC = {roc_auc:.2f})')\n",
    "\n",
    "plt.plot([0, 1], [0, 1], 'k--', label='Random')\n",
    "plt.xlim([0.0, 1.0])\n",
    "plt.ylim([0.0, 1.05])\n",
    "plt.xlabel('False Positive Rate')\n",
    "plt.ylabel('True Positive Rate')\n",
    "plt.title('ROC Curves for All Classes')\n",
    "plt.legend()\n",
    "plt.show()"
   ]
  },
  {
   "cell_type": "markdown",
   "metadata": {},
   "source": [
    "^^^This plot shows Receiver Operating Characteristic (ROC) curves for all 5 classes on a single graph. Each curve displays the trade-off between true positive rate and false positive rate at various threshold settings. The Area Under Curve (AUC) values indicate model performance, with values closer to 1.0 being better."
   ]
  },
  {
   "cell_type": "code",
   "execution_count": 18,
   "metadata": {},
   "outputs": [
    {
     "data": {
      "image/png": "[encoded data removed]",
      "text/plain": [
       "<Figure size 1500x300 with 3 Axes>"
      ]
     },
     "metadata": {},
     "output_type": "display_data"
    }
   ],
   "source": [
    "%matplotlib inline\n",
    "plt.figure(figsize=(15, 3))\n",
    "\n",
    "for i in range(num_classes):\n",
    "    plt.subplot(1, num_classes, i+1)\n",
    "    plt.hist(y_val_pred[:, i], bins=50, alpha=0.7, density=True)\n",
    "    plt.title(f'{class_names[i]} Predictions')\n",
    "    plt.xlabel('Prediction Score')\n",
    "    plt.ylabel('Density')\n",
    "\n",
    "plt.tight_layout()\n",
    "plt.show()"
   ]
  },
  {
   "cell_type": "markdown",
   "metadata": {},
   "source": [
    "^^^This plot shows histograms of prediction probability distributions for each class. It visualizes how confident the model is in its predictions - well-separated distributions (peaks near 0 and 1) indicate the model makes confident decisions, while distributions concentrated around 0.5 suggest uncertainty."
   ]
  }
 ],
 "metadata": {
  "kernelspec": {
   "display_name": "ecg_benchmarking_env",
   "language": "python",
   "name": "python3"
  },
  "language_info": {
   "codemirror_mode": {
    "name": "ipython",
    "version": 3
   },
   "file_extension": ".py",
   "mimetype": "text/x-python",
   "name": "python",
   "nbconvert_exporter": "python",
   "pygments_lexer": "ipython3",
   "version": "3.11.13"
  }
 },
 "nbformat": 4,
 "nbformat_minor": 2
}
